{
 "cells": [
  {
   "cell_type": "code",
   "execution_count": 1,
   "id": "d6da830e-0354-4b79-aa0c-681e876a3eb5",
   "metadata": {
    "tags": []
   },
   "outputs": [
    {
     "name": "stderr",
     "output_type": "stream",
     "text": [
      "2023-11-30 13:27:47.291869: I tensorflow/core/platform/cpu_feature_guard.cc:193] This TensorFlow binary is optimized with oneAPI Deep Neural Network Library (oneDNN) to use the following CPU instructions in performance-critical operations:  AVX2 FMA\n",
      "To enable them in other operations, rebuild TensorFlow with the appropriate compiler flags.\n",
      "2023-11-30 13:27:48.331773: W tensorflow/compiler/xla/stream_executor/platform/default/dso_loader.cc:64] Could not load dynamic library 'libnvinfer.so.7'; dlerror: libnvinfer.so.7: cannot open shared object file: No such file or directory; LD_LIBRARY_PATH: /usr/local/nvidia/lib:/usr/local/nvidia/lib64\n",
      "2023-11-30 13:27:48.331848: W tensorflow/compiler/xla/stream_executor/platform/default/dso_loader.cc:64] Could not load dynamic library 'libnvinfer_plugin.so.7'; dlerror: libnvinfer_plugin.so.7: cannot open shared object file: No such file or directory; LD_LIBRARY_PATH: /usr/local/nvidia/lib:/usr/local/nvidia/lib64\n",
      "2023-11-30 13:27:48.331858: W tensorflow/compiler/tf2tensorrt/utils/py_utils.cc:38] TF-TRT Warning: Cannot dlopen some TensorRT libraries. If you would like to use Nvidia GPU with TensorRT, please make sure the missing libraries mentioned above are installed properly.\n"
     ]
    }
   ],
   "source": [
    "import tensorflow as tf\n",
    "from tensorflow import keras\n",
    "from tensorflow.keras import Sequential\n",
    "from tensorflow.keras.layers import Dense,Flatten\n",
    "import matplotlib.pyplot as plt\n",
    "from sklearn.metrics import accuracy_score\n",
    "from datetime import datetime\n",
    "import tf2onnx\n",
    "import onnx\n",
    "import onnxruntime as ort\n",
    "import os\n",
    "import boto3"
   ]
  },
  {
   "cell_type": "code",
   "execution_count": 2,
   "id": "7bc0f017-d615-4b7f-a719-08c076c8b4b3",
   "metadata": {
    "tags": []
   },
   "outputs": [],
   "source": [
    "(X_train,y_train),(X_test,y_test) = keras.datasets.mnist.load_data()\n",
    "\n",
    "X_train = X_train/255\n",
    "X_test = X_test/255"
   ]
  },
  {
   "cell_type": "markdown",
   "id": "395b95ce-f97e-4927-ae48-df361f3f06c0",
   "metadata": {},
   "source": [
    "# Training\n",
    "\n",
    "Let's train a simple neural network:"
   ]
  },
  {
   "cell_type": "code",
   "execution_count": 3,
   "id": "b2ce7e47-dc57-4156-9808-bf5de1c02675",
   "metadata": {
    "tags": []
   },
   "outputs": [
    {
     "name": "stdout",
     "output_type": "stream",
     "text": [
      "Model: \"sequential\"\n",
      "_________________________________________________________________\n",
      " Layer (type)                Output Shape              Param #   \n",
      "=================================================================\n",
      " flatten (Flatten)           (None, 784)               0         \n",
      "                                                                 \n",
      " dense (Dense)               (None, 128)               100480    \n",
      "                                                                 \n",
      " dense_1 (Dense)             (None, 32)                4128      \n",
      "                                                                 \n",
      " dense_2 (Dense)             (None, 10)                330       \n",
      "                                                                 \n",
      "=================================================================\n",
      "Total params: 104,938\n",
      "Trainable params: 104,938\n",
      "Non-trainable params: 0\n",
      "_________________________________________________________________\n"
     ]
    }
   ],
   "source": [
    "model = Sequential()\n",
    "\n",
    "model.add(Flatten(input_shape=(28,28)))\n",
    "model.add(Dense(128,activation='relu'))\n",
    "model.add(Dense(32,activation='relu'))\n",
    "model.add(Dense(10,activation='softmax'))\n",
    "\n",
    "model.compile(loss='sparse_categorical_crossentropy',optimizer='Adam',metrics=['accuracy'])\n",
    "\n",
    "model.summary()"
   ]
  },
  {
   "cell_type": "code",
   "execution_count": 4,
   "id": "9e5fbbf9-fa00-49a4-b44a-fa0e876db003",
   "metadata": {
    "tags": []
   },
   "outputs": [
    {
     "name": "stdout",
     "output_type": "stream",
     "text": [
      "Epoch 1/10\n",
      "1500/1500 [==============================] - 5s 3ms/step - loss: 0.2844 - accuracy: 0.9181 - val_loss: 0.1459 - val_accuracy: 0.9571\n",
      "Epoch 2/10\n",
      "1500/1500 [==============================] - 4s 3ms/step - loss: 0.1239 - accuracy: 0.9630 - val_loss: 0.1213 - val_accuracy: 0.9628\n",
      "Epoch 3/10\n",
      "1500/1500 [==============================] - 4s 3ms/step - loss: 0.0844 - accuracy: 0.9746 - val_loss: 0.1042 - val_accuracy: 0.9709\n",
      "Epoch 4/10\n",
      "1500/1500 [==============================] - 4s 3ms/step - loss: 0.0632 - accuracy: 0.9807 - val_loss: 0.0981 - val_accuracy: 0.9710\n",
      "Epoch 5/10\n",
      "1500/1500 [==============================] - 4s 3ms/step - loss: 0.0515 - accuracy: 0.9842 - val_loss: 0.0955 - val_accuracy: 0.9727\n",
      "Epoch 6/10\n",
      "1500/1500 [==============================] - 4s 3ms/step - loss: 0.0387 - accuracy: 0.9876 - val_loss: 0.1009 - val_accuracy: 0.9730\n",
      "Epoch 7/10\n",
      "1500/1500 [==============================] - 4s 3ms/step - loss: 0.0314 - accuracy: 0.9896 - val_loss: 0.1212 - val_accuracy: 0.9671\n",
      "Epoch 8/10\n",
      "1500/1500 [==============================] - 4s 3ms/step - loss: 0.0289 - accuracy: 0.9906 - val_loss: 0.0992 - val_accuracy: 0.9747\n",
      "Epoch 9/10\n",
      "1500/1500 [==============================] - 4s 2ms/step - loss: 0.0218 - accuracy: 0.9930 - val_loss: 0.1177 - val_accuracy: 0.9718\n",
      "Epoch 10/10\n",
      "1500/1500 [==============================] - 4s 3ms/step - loss: 0.0193 - accuracy: 0.9936 - val_loss: 0.1126 - val_accuracy: 0.9748\n"
     ]
    }
   ],
   "source": [
    "history = model.fit(X_train,y_train,epochs=10,validation_split=0.2)"
   ]
  },
  {
   "cell_type": "code",
   "execution_count": 5,
   "id": "81818fe7-cfdf-4e1d-a539-13077da077cc",
   "metadata": {
    "tags": []
   },
   "outputs": [
    {
     "name": "stdout",
     "output_type": "stream",
     "text": [
      "313/313 [==============================] - 0s 849us/step\n"
     ]
    },
    {
     "data": {
      "text/plain": [
       "0.9765"
      ]
     },
     "execution_count": 5,
     "metadata": {},
     "output_type": "execute_result"
    }
   ],
   "source": [
    "y_prob = model.predict(X_test)\n",
    "y_pred = y_prob.argmax(axis=1)\n",
    "accuracy_score(y_test,y_pred)"
   ]
  },
  {
   "cell_type": "markdown",
   "id": "4e0cb805-119c-4f4d-b180-6b11ea17852f",
   "metadata": {},
   "source": [
    "# Demo\n",
    "\n",
    "Let's try out the nn with a small demo, given the following:"
   ]
  },
  {
   "cell_type": "code",
   "execution_count": 6,
   "id": "f62e879f-c7c3-432e-9592-24f767923589",
   "metadata": {
    "tags": []
   },
   "outputs": [
    {
     "data": {
      "image/png": "[encoded data removed]",
      "text/plain": [
       "<Figure size 640x480 with 1 Axes>"
      ]
     },
     "metadata": {},
     "output_type": "display_data"
    }
   ],
   "source": [
    "plt.imshow(X_test[4], cmap=\"Greys\")\n",
    "plt.title('X_test[4]:')\n",
    "plt.show()"
   ]
  },
  {
   "cell_type": "markdown",
   "id": "4f2dd675-8171-4bcb-a523-130027e625c9",
   "metadata": {},
   "source": [
    "the model predicts it is:"
   ]
  },
  {
   "cell_type": "code",
   "execution_count": 7,
   "id": "0e4427b4-58c8-4712-a72c-277e7de1ed03",
   "metadata": {
    "tags": []
   },
   "outputs": [
    {
     "name": "stdout",
     "output_type": "stream",
     "text": [
      "1/1 [==============================] - 0s 17ms/step\n",
      "prediction:  4\n"
     ]
    }
   ],
   "source": [
    "prediction = model.predict(X_test[4].reshape(1,28,28)).argmax(axis=1)[0]\n",
    "print('prediction: ', prediction)"
   ]
  },
  {
   "cell_type": "markdown",
   "id": "ec17cb9b-6ff3-4b83-9f65-b27264b1552b",
   "metadata": {},
   "source": [
    "# Model Save"
   ]
  },
  {
   "cell_type": "code",
   "execution_count": 8,
   "id": "2dff55b1-8446-4ee7-9e11-15d378e3875e",
   "metadata": {
    "tags": []
   },
   "outputs": [],
   "source": [
    "input_signature = [tf.TensorSpec([1, 28, 28], tf.double, name='x')]\n",
    "onnx_model, _ = tf2onnx.convert.from_keras(model, input_signature, opset=12)\n",
    "onnx.save(onnx_model, \"model1.onnx\")"
   ]
  },
  {
   "cell_type": "markdown",
   "id": "384b077d-5a1c-4f0f-a48d-41fbc96d0bf4",
   "metadata": {},
   "source": [
    "# Demo using onnx file"
   ]
  },
  {
   "cell_type": "code",
   "execution_count": 9,
   "id": "f6d61319-9860-4040-885d-64e071057340",
   "metadata": {
    "tags": []
   },
   "outputs": [
    {
     "name": "stdout",
     "output_type": "stream",
     "text": [
      "['dense_2']\n",
      "prediction:  4\n"
     ]
    }
   ],
   "source": [
    "model_onnx = onnx.load('model1.onnx')\n",
    "output = [node.name for node in model_onnx.graph.output]\n",
    "print(output)\n",
    "\n",
    "sess = ort.InferenceSession(\"model1.onnx\")\n",
    "results_ort = sess.run(['dense_2'], {'x': X_test[4].reshape(1,28,28)})\n",
    "prediction = results_ort[0].argmax(axis=1)[0]\n",
    "print('prediction: ', prediction)"
   ]
  },
  {
   "cell_type": "markdown",
   "id": "9fcdbf7e-2e4f-4dee-81d6-b4993a0cd1d4",
   "metadata": {},
   "source": [
    "# Store onnx on bucket"
   ]
  },
  {
   "cell_type": "code",
   "execution_count": 10,
   "id": "2a068fdc-cd9e-4dc7-966c-eb29d8dc8004",
   "metadata": {
    "tags": []
   },
   "outputs": [
    {
     "name": "stdout",
     "output_type": "stream",
     "text": [
      "Will be using: mnist:v1.nb20231130132831 in the remainder of this task\n",
      "ls:\n",
      "artifacts/test-matteo-storesomething-11c33/train-model/outgoingfile.tgz\n",
      "artifacts/test-matteo-storesomething-11c33/train-model/outgoingfile2.tgz\n",
      "artifacts/test-matteo-storesomething-11c33/validate-model/Output.tgz\n",
      "experiment1/mnist.onnx\n",
      "pipelines/91c05d13-7a85-4133-844e-889c3a00999c\n",
      "pipelines/db1f4601-8c10-4379-8a22-09a49faa66e5\n",
      "v1.nb20231130105804/mnist.onnx\n",
      "v1.nb20231130105849/mnist.onnx\n",
      "v1.nb20231130110240/mnist.onnx\n",
      "v1.nb20231130110352/mnist.onnx\n",
      "v1.nb20231130132831/mnist.onnx\n",
      "v2.nb20231130132332/mnist.onnx\n",
      "v20231128110416/mnist.onnx\n"
     ]
    }
   ],
   "source": [
    "registeredmodel_name = \"mnist\"\n",
    "version_name = \"v1.nb\"+datetime.now().strftime(\"%Y%m%d%H%M%S\")\n",
    "print(f\"Will be using: {registeredmodel_name}:{version_name} in the remainder of this task\")\n",
    "\n",
    "s3 = boto3.resource(\n",
    "    service_name='s3',\n",
    "    region_name=os.environ['AWS_DEFAULT_REGION'],\n",
    "    aws_access_key_id=os.environ['AWS_ACCESS_KEY_ID'],\n",
    "    aws_secret_access_key=os.environ['AWS_SECRET_ACCESS_KEY'],\n",
    "    use_ssl=False,\n",
    "    endpoint_url=os.environ['AWS_S3_ENDPOINT'],\n",
    "    verify=False\n",
    ")\n",
    "\n",
    "bucket_name = os.environ['AWS_S3_BUCKET']\n",
    "odh_secret_name = f'aws-connection-{bucket_name}'\n",
    "in_bucket_path = version_name\n",
    "in_bucket_target = f'{in_bucket_path}/mnist.onnx'\n",
    "full_bucket_target = f's3://{bucket_name}/{in_bucket_target}'\n",
    "\n",
    "my_bucket = s3.Bucket(bucket_name)\n",
    "my_bucket.upload_file(\"model1.onnx\", in_bucket_target)\n",
    "\n",
    "print(\"ls:\")\n",
    "for obj in my_bucket.objects.filter():\n",
    "    print(obj.key)"
   ]
  },
  {
   "cell_type": "markdown",
   "id": "33512d06-ce8c-46ab-96f6-f0aaa1875194",
   "metadata": {},
   "source": [
    "# Register model on Model Registry"
   ]
  },
  {
   "cell_type": "code",
   "execution_count": 11,
   "id": "6ae4b66b-707f-4eb6-b693-568d6ec7072b",
   "metadata": {
    "tags": []
   },
   "outputs": [
    {
     "name": "stdout",
     "output_type": "stream",
     "text": [
      "RegisteredModel:\n",
      "RegisteredModel(id='2', description='', external_id='', create_time_since_epoch=1701169456901, last_update_time_since_epoch=1701169456901, name='mnist')\n",
      "ModelVersion:\n",
      "ModelVersion(name='v1.nb20231130132831', id='13', description='demo20231121 e2e MNIST', external_id='', create_time_since_epoch=1701350912964, last_update_time_since_epoch=1701350912964, model_name='mnist', version='v1.nb20231130132831', author='author', artifacts=NOTHING, tags=[], metadata={}, _registered_model_id=NOTHING)\n",
      "ModelArtifact:\n",
      "ModelArtifact(id='7', description='', external_id='', create_time_since_epoch=1701350914796, last_update_time_since_epoch=1701350914796, name='mnist', uri='s3://mybucket/v1.nb20231130132831/mnist.onnx', state=<ArtifactState.UNKNOWN: 0>, model_format_name='onnx', model_format_version='1', storage_key='aws-connection-mybucket', storage_path='v1.nb20231130132831', service_account_name='', _model_version_id=NOTHING)\n"
     ]
    }
   ],
   "source": [
    "from model_registry import ModelRegistry\n",
    "\n",
    "registry = ModelRegistry(server_address=\"modelregistry-sample\", port=9090, author=\"author\")\n",
    "\n",
    "model = registry.register_model(registeredmodel_name,\n",
    "                                full_bucket_target,\n",
    "                                model_format_name=\"onnx\",\n",
    "                                model_format_version=\"1\",\n",
    "                                storage_key=odh_secret_name,\n",
    "                                storage_path=in_bucket_path,\n",
    "                                version=version_name,\n",
    "                                description=\"demo20231121 e2e MNIST\",\n",
    "                                )\n",
    "print(\"RegisteredModel:\")\n",
    "print(registry.get_registered_model(registeredmodel_name))\n",
    "print(\"ModelVersion:\")\n",
    "print(registry.get_model_version(registeredmodel_name, version_name))\n",
    "print(\"ModelArtifact:\")\n",
    "print(registry.get_model_artifact(registeredmodel_name, version_name))"
   ]
  },
  {
   "cell_type": "code",
   "execution_count": null,
   "id": "a3fd5e81-c881-4f10-bd83-9520003d2a40",
   "metadata": {},
   "outputs": [],
   "source": []
  }
 ],
 "metadata": {
  "kernelspec": {
   "display_name": "Python 3.9",
   "language": "python",
   "name": "python3"
  },
  "language_info": {
   "codemirror_mode": {
    "name": "ipython",
    "version": 3
   },
   "file_extension": ".py",
   "mimetype": "text/x-python",
   "name": "python",
   "nbconvert_exporter": "python",
   "pygments_lexer": "ipython3",
   "version": "3.9.16"
  }
 },
 "nbformat": 4,
 "nbformat_minor": 5
}
